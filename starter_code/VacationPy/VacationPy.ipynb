{
 "cells": [
  {
   "cell_type": "markdown",
   "metadata": {},
   "source": [
    "# VacationPy\n",
    "----\n",
    "\n",
    "#### Note\n",
    "* Keep an eye on your API usage. Use https://developers.google.com/maps/reporting/gmp-reporting as reference for how to monitor your usage and billing.\n",
    "\n",
    "* Instructions have been included for each segment. You do not have to follow them exactly, but they are included to help you think through the steps."
   ]
  },
  {
   "cell_type": "code",
   "execution_count": 53,
   "metadata": {},
   "outputs": [],
   "source": [
    "# Dependencies and Setup\n",
    "import matplotlib.pyplot as plt\n",
    "import pandas as pd\n",
    "import numpy as np\n",
    "import requests\n",
    "import gmaps\n",
    "import os\n",
    "\n",
    "# Import API key\n",
    "from api_keys import g_key\n",
    "gmaps.configure(api_key=g_key)"
   ]
  },
  {
   "cell_type": "markdown",
   "metadata": {},
   "source": [
    "### Store Part I results into DataFrame\n",
    "* Load the csv exported in Part I to a DataFrame"
   ]
  },
  {
   "cell_type": "code",
   "execution_count": 54,
   "metadata": {},
   "outputs": [
    {
     "data": {
      "text/html": [
       "<div>\n",
       "<style scoped>\n",
       "    .dataframe tbody tr th:only-of-type {\n",
       "        vertical-align: middle;\n",
       "    }\n",
       "\n",
       "    .dataframe tbody tr th {\n",
       "        vertical-align: top;\n",
       "    }\n",
       "\n",
       "    .dataframe thead th {\n",
       "        text-align: right;\n",
       "    }\n",
       "</style>\n",
       "<table border=\"1\" class=\"dataframe\">\n",
       "  <thead>\n",
       "    <tr style=\"text-align: right;\">\n",
       "      <th></th>\n",
       "      <th>City</th>\n",
       "      <th>Lat</th>\n",
       "      <th>Lng</th>\n",
       "      <th>Max Temp (C)</th>\n",
       "      <th>Humidity (%)</th>\n",
       "      <th>Cloudiness (%)</th>\n",
       "      <th>Wind Speed (mph)</th>\n",
       "      <th>Country</th>\n",
       "      <th>Date</th>\n",
       "    </tr>\n",
       "  </thead>\n",
       "  <tbody>\n",
       "    <tr>\n",
       "      <th>0</th>\n",
       "      <td>Clyde River</td>\n",
       "      <td>70.4692</td>\n",
       "      <td>-68.5914</td>\n",
       "      <td>-0.87</td>\n",
       "      <td>86</td>\n",
       "      <td>40</td>\n",
       "      <td>7.72</td>\n",
       "      <td>CA</td>\n",
       "      <td>1622047223</td>\n",
       "    </tr>\n",
       "    <tr>\n",
       "      <th>1</th>\n",
       "      <td>Lebu</td>\n",
       "      <td>-37.6167</td>\n",
       "      <td>-73.6500</td>\n",
       "      <td>15.92</td>\n",
       "      <td>81</td>\n",
       "      <td>98</td>\n",
       "      <td>3.63</td>\n",
       "      <td>CL</td>\n",
       "      <td>1622047165</td>\n",
       "    </tr>\n",
       "    <tr>\n",
       "      <th>2</th>\n",
       "      <td>Busselton</td>\n",
       "      <td>-33.6500</td>\n",
       "      <td>115.3333</td>\n",
       "      <td>11.69</td>\n",
       "      <td>64</td>\n",
       "      <td>100</td>\n",
       "      <td>5.46</td>\n",
       "      <td>AU</td>\n",
       "      <td>1622047242</td>\n",
       "    </tr>\n",
       "    <tr>\n",
       "      <th>3</th>\n",
       "      <td>Rikitea</td>\n",
       "      <td>-23.1203</td>\n",
       "      <td>-134.9692</td>\n",
       "      <td>24.84</td>\n",
       "      <td>79</td>\n",
       "      <td>38</td>\n",
       "      <td>11.23</td>\n",
       "      <td>PF</td>\n",
       "      <td>1622047221</td>\n",
       "    </tr>\n",
       "    <tr>\n",
       "      <th>4</th>\n",
       "      <td>Alofi</td>\n",
       "      <td>-19.0595</td>\n",
       "      <td>-169.9187</td>\n",
       "      <td>23.94</td>\n",
       "      <td>94</td>\n",
       "      <td>88</td>\n",
       "      <td>1.54</td>\n",
       "      <td>NU</td>\n",
       "      <td>1622047344</td>\n",
       "    </tr>\n",
       "    <tr>\n",
       "      <th>...</th>\n",
       "      <td>...</td>\n",
       "      <td>...</td>\n",
       "      <td>...</td>\n",
       "      <td>...</td>\n",
       "      <td>...</td>\n",
       "      <td>...</td>\n",
       "      <td>...</td>\n",
       "      <td>...</td>\n",
       "      <td>...</td>\n",
       "    </tr>\n",
       "    <tr>\n",
       "      <th>562</th>\n",
       "      <td>Jaciara</td>\n",
       "      <td>-15.9653</td>\n",
       "      <td>-54.9683</td>\n",
       "      <td>33.28</td>\n",
       "      <td>39</td>\n",
       "      <td>6</td>\n",
       "      <td>0.73</td>\n",
       "      <td>BR</td>\n",
       "      <td>1622047966</td>\n",
       "    </tr>\n",
       "    <tr>\n",
       "      <th>563</th>\n",
       "      <td>Verkhnevilyuysk</td>\n",
       "      <td>63.4453</td>\n",
       "      <td>120.3167</td>\n",
       "      <td>6.32</td>\n",
       "      <td>88</td>\n",
       "      <td>91</td>\n",
       "      <td>1.69</td>\n",
       "      <td>RU</td>\n",
       "      <td>1622047966</td>\n",
       "    </tr>\n",
       "    <tr>\n",
       "      <th>564</th>\n",
       "      <td>Lahaina</td>\n",
       "      <td>20.8783</td>\n",
       "      <td>-156.6825</td>\n",
       "      <td>23.03</td>\n",
       "      <td>83</td>\n",
       "      <td>36</td>\n",
       "      <td>3.10</td>\n",
       "      <td>US</td>\n",
       "      <td>1622047967</td>\n",
       "    </tr>\n",
       "    <tr>\n",
       "      <th>565</th>\n",
       "      <td>Superior</td>\n",
       "      <td>46.7208</td>\n",
       "      <td>-92.1041</td>\n",
       "      <td>10.67</td>\n",
       "      <td>55</td>\n",
       "      <td>75</td>\n",
       "      <td>7.72</td>\n",
       "      <td>US</td>\n",
       "      <td>1622047967</td>\n",
       "    </tr>\n",
       "    <tr>\n",
       "      <th>566</th>\n",
       "      <td>Huilong</td>\n",
       "      <td>31.8111</td>\n",
       "      <td>121.6550</td>\n",
       "      <td>19.99</td>\n",
       "      <td>94</td>\n",
       "      <td>100</td>\n",
       "      <td>4.64</td>\n",
       "      <td>CN</td>\n",
       "      <td>1622047967</td>\n",
       "    </tr>\n",
       "  </tbody>\n",
       "</table>\n",
       "<p>567 rows × 9 columns</p>\n",
       "</div>"
      ],
      "text/plain": [
       "                City      Lat       Lng  Max Temp (C)  Humidity (%)  \\\n",
       "0        Clyde River  70.4692  -68.5914         -0.87            86   \n",
       "1               Lebu -37.6167  -73.6500         15.92            81   \n",
       "2          Busselton -33.6500  115.3333         11.69            64   \n",
       "3            Rikitea -23.1203 -134.9692         24.84            79   \n",
       "4              Alofi -19.0595 -169.9187         23.94            94   \n",
       "..               ...      ...       ...           ...           ...   \n",
       "562          Jaciara -15.9653  -54.9683         33.28            39   \n",
       "563  Verkhnevilyuysk  63.4453  120.3167          6.32            88   \n",
       "564          Lahaina  20.8783 -156.6825         23.03            83   \n",
       "565         Superior  46.7208  -92.1041         10.67            55   \n",
       "566          Huilong  31.8111  121.6550         19.99            94   \n",
       "\n",
       "     Cloudiness (%)  Wind Speed (mph) Country        Date  \n",
       "0                40              7.72      CA  1622047223  \n",
       "1                98              3.63      CL  1622047165  \n",
       "2               100              5.46      AU  1622047242  \n",
       "3                38             11.23      PF  1622047221  \n",
       "4                88              1.54      NU  1622047344  \n",
       "..              ...               ...     ...         ...  \n",
       "562               6              0.73      BR  1622047966  \n",
       "563              91              1.69      RU  1622047966  \n",
       "564              36              3.10      US  1622047967  \n",
       "565              75              7.72      US  1622047967  \n",
       "566             100              4.64      CN  1622047967  \n",
       "\n",
       "[567 rows x 9 columns]"
      ]
     },
     "execution_count": 54,
     "metadata": {},
     "output_type": "execute_result"
    }
   ],
   "source": [
    "# Import Clean City Data\n",
    "weather = os.path.join('..', 'WheaterPy','Output_Data','Clean_City_Data.csv')\n",
    "weather_df = pd.read_csv(weather)\n",
    "weather_df"
   ]
  },
  {
   "cell_type": "markdown",
   "metadata": {},
   "source": [
    "### Humidity Heatmap\n",
    "* Configure gmaps.\n",
    "* Use the Lat and Lng as locations and Humidity as the weight.\n",
    "* Add Heatmap layer to map."
   ]
  },
  {
   "cell_type": "code",
   "execution_count": 55,
   "metadata": {},
   "outputs": [],
   "source": [
    "# Store latitude and longitude in locations\n",
    "world_location = weather_df[['Lat', 'Lng']]\n",
    "\n",
    "# Store humidity\n",
    "humidity = weather_df['Humidity (%)']"
   ]
  },
  {
   "cell_type": "code",
   "execution_count": 60,
   "metadata": {},
   "outputs": [
    {
     "data": {
      "application/vnd.jupyter.widget-view+json": {
       "model_id": "6fd66a331f2f419794bc7993bb125bbc",
       "version_major": 2,
       "version_minor": 0
      },
      "text/plain": [
       "Figure(layout=FigureLayout(height='420px'))"
      ]
     },
     "metadata": {},
     "output_type": "display_data"
    }
   ],
   "source": [
    "# Plot Heatmap\n",
    "# Customize the size of the figure\n",
    "figure_layout = {\n",
    "    'width': '1000px',\n",
    "    'height': '700px',\n",
    "    'border': '1px solid black',\n",
    "    'padding': '3px',\n",
    "    'margin': '0 auto 0 auto'}\n",
    "\n",
    "fig = gmaps.figure()\n",
    "\n",
    "# Create heat layer\n",
    "heat_layer = gmaps.heatmap_layer(world_location, weights=humidity, \n",
    "                                 dissipating=False, max_intensity=1,\n",
    "                                 point_radius=0.5)\n",
    "\n",
    "# Add layer\n",
    "fig.add_layer(heat_layer)\n",
    "\n",
    "# Display figure\n",
    "fig"
   ]
  },
  {
   "cell_type": "markdown",
   "metadata": {},
   "source": [
    "### Create new DataFrame fitting weather criteria\n",
    "* Narrow down the cities to fit weather conditions.\n",
    "* Drop any rows will null values."
   ]
  },
  {
   "cell_type": "code",
   "execution_count": 62,
   "metadata": {},
   "outputs": [
    {
     "ename": "SyntaxError",
     "evalue": "invalid syntax (<ipython-input-62-b246f9faa53e>, line 1)",
     "output_type": "error",
     "traceback": [
      "\u001b[0;36m  File \u001b[0;32m\"<ipython-input-62-b246f9faa53e>\"\u001b[0;36m, line \u001b[0;32m1\u001b[0m\n\u001b[0;31m    fitting_weather = weather_df[(weather_df['Max Temp (C)']>=20) & (weather_df['Max Temp (C)']<=35) & (weather_df['Wind Speed (mph)'])<=25 &(weather_df['Cloudiness (%)']== 0,:]\u001b[0m\n\u001b[0m                                                                                                                                                                               ^\u001b[0m\n\u001b[0;31mSyntaxError\u001b[0m\u001b[0;31m:\u001b[0m invalid syntax\n"
     ]
    }
   ],
   "source": [
    "fitting_weather = weather_df[(weather_df['Max Temp (C)']>=20) & (weather_df['Max Temp (C)']<=35) & (weather_df['Wind Speed (mph)'])<=25 &(weather_df['Cloudiness (%)']== 0,:]\n",
    "fitting_weather                        "
   ]
  },
  {
   "cell_type": "markdown",
   "metadata": {},
   "source": [
    "### Hotel Map\n",
    "* Store into variable named `hotel_df`.\n",
    "* Add a \"Hotel Name\" column to the DataFrame.\n",
    "* Set parameters to search for hotels with 5000 meters.\n",
    "* Hit the Google Places API for each city's coordinates.\n",
    "* Store the first Hotel result into the DataFrame.\n",
    "* Plot markers on top of the heatmap."
   ]
  },
  {
   "cell_type": "code",
   "execution_count": null,
   "metadata": {},
   "outputs": [],
   "source": []
  },
  {
   "cell_type": "code",
   "execution_count": null,
   "metadata": {},
   "outputs": [],
   "source": []
  },
  {
   "cell_type": "code",
   "execution_count": null,
   "metadata": {},
   "outputs": [],
   "source": [
    "# NOTE: Do not change any of the code in this cell\n",
    "\n",
    "# Using the template add the hotel marks to the heatmap\n",
    "info_box_template = \"\"\"\n",
    "<dl>\n",
    "<dt>Name</dt><dd>{Hotel Name}</dd>\n",
    "<dt>City</dt><dd>{City}</dd>\n",
    "<dt>Country</dt><dd>{Country}</dd>\n",
    "</dl>\n",
    "\"\"\"\n",
    "# Store the DataFrame Row\n",
    "# NOTE: be sure to update with your DataFrame name\n",
    "hotel_info = [info_box_template.format(**row) for index, row in hotel_df.iterrows()]\n",
    "locations = hotel_df[[\"Lat\", \"Lng\"]]"
   ]
  },
  {
   "cell_type": "code",
   "execution_count": null,
   "metadata": {},
   "outputs": [],
   "source": [
    "# Add marker layer ontop of heat map\n",
    "\n",
    "\n",
    "# Display figure\n"
   ]
  },
  {
   "cell_type": "code",
   "execution_count": null,
   "metadata": {},
   "outputs": [],
   "source": []
  }
 ],
 "metadata": {
  "kernelspec": {
   "display_name": "Python 3",
   "language": "python",
   "name": "python3"
  },
  "language_info": {
   "codemirror_mode": {
    "name": "ipython",
    "version": 3
   },
   "file_extension": ".py",
   "mimetype": "text/x-python",
   "name": "python",
   "nbconvert_exporter": "python",
   "pygments_lexer": "ipython3",
   "version": "3.8.5"
  },
  "latex_envs": {
   "LaTeX_envs_menu_present": true,
   "autoclose": false,
   "autocomplete": true,
   "bibliofile": "biblio.bib",
   "cite_by": "apalike",
   "current_citInitial": 1,
   "eqLabelWithNumbers": true,
   "eqNumInitial": 1,
   "hotkeys": {
    "equation": "Ctrl-E",
    "itemize": "Ctrl-I"
   },
   "labels_anchors": false,
   "latex_user_defs": false,
   "report_style_numbering": false,
   "user_envs_cfg": false
  }
 },
 "nbformat": 4,
 "nbformat_minor": 4
}
